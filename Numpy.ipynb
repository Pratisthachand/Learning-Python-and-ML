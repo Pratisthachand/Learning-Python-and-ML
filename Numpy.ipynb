{
  "nbformat": 4,
  "nbformat_minor": 0,
  "metadata": {
    "colab": {
      "provenance": [],
      "collapsed_sections": []
    },
    "kernelspec": {
      "name": "python3",
      "display_name": "Python 3"
    },
    "language_info": {
      "name": "python"
    }
  },
  "cells": [
    {
      "cell_type": "code",
      "source": [
        "#Numpy- core library for scientific computing in Python -used as multidimensional container for generic data - better than list: less memory, fast, convenient\n",
        "\n",
        "#An array is a collection of elements of the same type placed in contiguous memory locations that can be individually referenced by using an index to a unique identifier."
      ],
      "metadata": {
        "id": "E5FVtveKZ5pw"
      },
      "execution_count": null,
      "outputs": []
    },
    {
      "cell_type": "code",
      "source": [
        "#What is Machine Learning? Why is it important? Name ML Algorithms (Atleast 10).\n",
        "#- Machine learning (ML) is a type of artificial intelligence (AI) that allows software applications to become more accurate at predicting outcomes without being explicitly programmed to do so. Machine learning algorithms use historical data as input to predict new output values.\n",
        "#-Machine learning is important because it gives enterprises a view of trends in customer behavior and business operational patterns, as well as supports the development of new products. Many of today's leading companies, such as Facebook, Google and Uber, make machine learning a central part of their operations. Machine learning has become a significant competitive differentiator for many companies.\n",
        "#-Machine learning algorithms are classified into 4 types:\n",
        "\n",
        "Supervised and\n",
        "Unsupervised Learning\n",
        "Semi-supervised Learning\n",
        "Reinforcement Learning\n",
        "\n",
        "#Top 10 commonly used Machine Learning (ML) Algorithms:\n",
        "\n",
        "Linear regression\n",
        "Logistic regression\n",
        "Decision tree\n",
        "SVM algorithm\n",
        "Naive Bayes algorithm\n",
        "KNN algorithm\n",
        "K-means\n",
        "Random forest algorithm\n",
        "Dimensionality reduction algorithms\n",
        "Gradient boosting algorithm and AdaBoosting algorithm\n",
        "\n",
        "#What is Linear Regression? Explain the mathematics.\n",
        "\n",
        "\n",
        "#What is Logistic Regression? Explain the mathematics. \n"
      ],
      "metadata": {
        "id": "91nUDhYmT8Uu"
      },
      "execution_count": null,
      "outputs": []
    },
    {
      "cell_type": "code",
      "execution_count": null,
      "metadata": {
        "colab": {
          "base_uri": "https://localhost:8080/"
        },
        "id": "2ZFBIuxExAYS",
        "outputId": "71ca14e8-1dbc-4ea6-876a-63d4f8d5ace1"
      },
      "outputs": [
        {
          "output_type": "stream",
          "name": "stdout",
          "text": [
            "12\n",
            "(2, 6)\n"
          ]
        }
      ],
      "source": [
        "import numpy as np\n",
        "\n",
        "a= np.array([(1,2,3,4,5,6),(7,8,9,10,11,12)])   # 1 2 3 4  5  6 (2 rows, 6 columns) \n",
        "                                                # 7 8 9 10 11 12 \n",
        "\n",
        "print (a.size)\n",
        "\n",
        "print (a.shape)  #for size to be printed correctly, amount of numbers in both row and columns must be same.\n"
      ]
    },
    {
      "cell_type": "code",
      "source": [
        "#Reshaping array (changing no. of rows and columns)\n",
        "\n",
        "import numpy as np\n",
        "\n",
        "a=np.array([(1,2,3,4),(3,4,5,6),(12,11,10,13)])\n",
        "\n",
        "print (a[0,2]) #from the zeroeth element, i want the index 2. \n",
        "print (a[1,3])\n",
        "print(\" \")\n",
        "\n",
        "print (a[0:,3]) #from all the rows (including 0 as well), take the 3rd index.\n",
        "print (a[0:2,3]) #from the zeroeth and 1st element, taking index 3.\n",
        "print(\" \")\n",
        "\n",
        "a=a.reshape(4,3)  #converting 3 rows, 4 columns to 4 rows, 3 columns\n",
        "print(a)\n",
        "\n"
      ],
      "metadata": {
        "colab": {
          "base_uri": "https://localhost:8080/"
        },
        "id": "PwGsx12QYNEH",
        "outputId": "38001732-b690-4f72-c372-8ed87d30fa78"
      },
      "execution_count": null,
      "outputs": [
        {
          "output_type": "stream",
          "name": "stdout",
          "text": [
            "3\n",
            "6\n",
            " \n",
            "[ 4  6 13]\n",
            "[4 6]\n",
            " \n",
            "[[ 1  2  3]\n",
            " [ 4  3  4]\n",
            " [ 5  6 12]\n",
            " [11 10 13]]\n"
          ]
        }
      ]
    },
    {
      "cell_type": "code",
      "source": [
        "import numpy as np\n",
        "\n",
        "a= np.linspace(1,3,5)  #Prints 5 values that are equally spaced between 1 to 3 number.\n",
        "\n",
        "print(a)\n"
      ],
      "metadata": {
        "colab": {
          "base_uri": "https://localhost:8080/"
        },
        "id": "Aa6jTVd6FA3v",
        "outputId": "9cc9c7fb-c28e-40c6-feeb-8f0e19b9d2e4"
      },
      "execution_count": null,
      "outputs": [
        {
          "output_type": "stream",
          "name": "stdout",
          "text": [
            "[1.  1.5 2.  2.5 3. ]\n"
          ]
        }
      ]
    },
    {
      "cell_type": "code",
      "source": [
        "import numpy as np\n",
        "\n",
        "a=np.array([1,2,3])\n",
        "\n",
        "print(a.min())\n",
        "print (a.max())\n",
        "print (a.sum())\n"
      ],
      "metadata": {
        "colab": {
          "base_uri": "https://localhost:8080/"
        },
        "id": "5HqYLzISGHNJ",
        "outputId": "0812750f-30bc-4aab-e12d-c04d8f89690d"
      },
      "execution_count": null,
      "outputs": [
        {
          "output_type": "stream",
          "name": "stdout",
          "text": [
            "1\n",
            "3\n",
            "6\n"
          ]
        }
      ]
    },
    {
      "cell_type": "code",
      "source": [
        "#Axis= 1 = rows, Axis= 0 = columns\n",
        "\n",
        "import numpy as np\n",
        "\n",
        "a=np.array([(1,2,3),(4,5,6)])\n",
        "\n",
        "print (a.sum(axis= 1)) #sum of rows\n",
        "print (a.sum(axis=0)) #sum of columns"
      ],
      "metadata": {
        "colab": {
          "base_uri": "https://localhost:8080/"
        },
        "id": "5LaLsInOIaSd",
        "outputId": "92a0fe32-179b-4630-f1ae-d69e722b21a5"
      },
      "execution_count": null,
      "outputs": [
        {
          "output_type": "stream",
          "name": "stdout",
          "text": [
            "[ 6 15]\n",
            "[5 7 9]\n"
          ]
        }
      ]
    },
    {
      "cell_type": "code",
      "source": [
        "import numpy as np\n",
        "\n",
        "a=np.array([(1,2,3),(4,5,6)])\n",
        "\n",
        "print (np.sqrt(a))\n",
        "print (np.std(a))\n",
        "\n",
        "b= np.array([(2,4,5),(6,9,8)])\n",
        "print (a+b)  #if we were using lists, this would just concatenate a and b because to add it we first would need to change it to int. but in numpy, its simple\n",
        "print (a-b)\n",
        "print (a*b)\n",
        "print (a/b)\n",
        "\n",
        "\n",
        "#to concatenate two arrays: \n",
        "#1) Vertical stacking:\n",
        "print (np.vstack((a,b)))\n",
        "\n",
        "#2) Horizontal stacking:\n",
        "\n",
        "print (np.hstack((a,b)))\n",
        "\n",
        "#to put all in columns:\n",
        "print (a.ravel())\n"
      ],
      "metadata": {
        "colab": {
          "base_uri": "https://localhost:8080/"
        },
        "id": "4_QFwSteJOD2",
        "outputId": "5d72612c-bc46-4cd3-d8b9-51735e8c3cd4"
      },
      "execution_count": null,
      "outputs": [
        {
          "output_type": "stream",
          "name": "stdout",
          "text": [
            "[[1.         1.41421356 1.73205081]\n",
            " [2.         2.23606798 2.44948974]]\n",
            "1.707825127659933\n",
            "[[ 3  6  8]\n",
            " [10 14 14]]\n",
            "[[-1 -2 -2]\n",
            " [-2 -4 -2]]\n",
            "[[ 2  8 15]\n",
            " [24 45 48]]\n",
            "[[0.5        0.5        0.6       ]\n",
            " [0.66666667 0.55555556 0.75      ]]\n",
            "[[1 2 3]\n",
            " [4 5 6]\n",
            " [2 4 5]\n",
            " [6 9 8]]\n",
            "[[1 2 3 2 4 5]\n",
            " [4 5 6 6 9 8]]\n",
            "[1 2 3 4 5 6]\n"
          ]
        }
      ]
    },
    {
      "cell_type": "code",
      "source": [
        "#plotting sin and cos functions are a bit hard\n",
        "# matplotlib = study later\n",
        "\n",
        "import numpy as np\n",
        "import matplotlib.pyplot as plt\n",
        "\n",
        "x=np.arange (0,3*np.pi,0.1)\n",
        "y= np.cos(x)\n",
        "\n",
        "plt.plot(x,y)\n",
        "plt.show()\n"
      ],
      "metadata": {
        "colab": {
          "base_uri": "https://localhost:8080/",
          "height": 265
        },
        "id": "JwC_4-mrLGfm",
        "outputId": "c1d13ec9-898e-4c7f-82e3-f8fd30aa12ad"
      },
      "execution_count": null,
      "outputs": [
        {
          "output_type": "display_data",
          "data": {
            "text/plain": [
              "<Figure size 432x288 with 1 Axes>"
            ],
            "image/png": "[encoded data removed]"
          },
          "metadata": {
            "needs_background": "light"
          }
        }
      ]
    },
    {
      "cell_type": "code",
      "source": [
        "import numpy as np\n",
        "\n",
        "ar=np.array([1,2,3])\n",
        "\n",
        "print (np.exp(ar)) #finds e^1, e^2, e^3\n",
        "\n",
        "print(np.log(ar)) #natural log\n",
        "print (np.log10(ar)) #base 10 log"
      ],
      "metadata": {
        "colab": {
          "base_uri": "https://localhost:8080/"
        },
        "id": "DVYWK7iSSZLK",
        "outputId": "0727bd46-a532-4c98-ee7f-e51fb24d1320"
      },
      "execution_count": null,
      "outputs": [
        {
          "output_type": "stream",
          "name": "stdout",
          "text": [
            "[ 2.71828183  7.3890561  20.08553692]\n",
            "[0.         0.69314718 1.09861229]\n",
            "[0.         0.30103    0.47712125]\n"
          ]
        }
      ]
    }
  ]
}
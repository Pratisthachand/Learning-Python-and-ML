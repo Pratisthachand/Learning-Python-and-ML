{
  "nbformat": 4,
  "nbformat_minor": 0,
  "metadata": {
    "colab": {
      "provenance": [],
      "collapsed_sections": []
    },
    "kernelspec": {
      "name": "python3",
      "display_name": "Python 3"
    },
    "language_info": {
      "name": "python"
    }
  },
  "cells": [
    {
      "cell_type": "code",
      "execution_count": null,
      "metadata": {
        "id": "U-v2BWFnIKLg"
      },
      "outputs": [],
      "source": [
        "#Importing required packages.\n",
        "\n",
        "import pandas as pd\n",
        "import seaborn as sns #lines 2 and 3 are for graphing #Seaborn is a Python data visualization library based on matplotlib. It provides a high-level interface for drawing attractive and informative statistical graphics.\n",
        "import matplotlib.pyplot as plt #Matplotlib is a plotting library for creating static, animated, and interactive visualizations in Python. \n",
        "from sklearn.ensemble import RandomForestClassifier #Ensemble method creates multiple models and combines them to solve it.\n",
        "from sklearn.svm import SVC #Support Vector Classifier, is a supervised machine learning algorithm typically used for classification tasks.\n",
        "from sklearn import svm #Support vector machines (SVMs) are a particularly powerful and flexible class of supervised algorithms for both classification and regression and outlier detection.\n",
        "from sklearn.neural_network import MLPClassifier #MLPClassifier stands for Multi-layer Perceptron classifier which in the name itself connects to a Neural Network. \n",
        "\n",
        "#from sklearn.linear_model import SGDClassifier (Stochastic gradient descent is an optimization algorithm often used in machine learning applications to find the model parameters that correspond to the best fit between predicted and actual outputs.)\n",
        "from sklearn.metrics import confusion_matrix, classification_report #to evaluate the performance of a classifier \n",
        "from sklearn.preprocessing import StandardScaler, LabelEncoder #standardscaler is for standardization #labelencoder- replace the categorical value with a numeric value between 0 and the number of classes minus 1 \n",
        "from sklearn.model_selection import train_test_split\n",
        "from sklearn.model_selection import train_test_split\n",
        "%matplotlib inline\n"
      ]
    },
    {
      "cell_type": "code",
      "source": [
        "\n",
        "#Importing required packages.\n",
        "\n",
        "import pandas as pd\n",
        "import seaborn as sns\n",
        "import matplotlib.pyplot as plt\n",
        "from sklearn.ensemble import RandomForestClassifier\n",
        "from sklearn.svm import SVC\n",
        "from sklearn import svm\n",
        "from sklearn.neural_network import MLPClassifier \n",
        "\n",
        "#from sklearn.linear_model import SGDClassifier\n",
        "from sklearn.metrics import confusion_matrix, classification_report\n",
        "from sklearn.preprocessing import StandardScaler, LabelEncoder\n",
        "from sklearn.model_selection import train_test_split\n",
        "from sklearn.model_selection import train_test_split\n",
        "%matplotlib inline\n",
        "\n",
        "#Loading dataset\n",
        "wine = pd.read_csv('/content/winequality-red.csv',sep=';') #uploads the dataset to files section and then clicked to find the file path and pasted it here.\n",
        "\n",
        "print (wine.head()) #shows first five lines present in datasheet as default. for more values, put a number inside the brackets\n",
        "\n",
        "print (' ') #added this to seperate each section\n",
        "\n",
        "print(wine.info()) #non-null = no nun values here\n",
        " \n",
        "print (' ')\n",
        "\n",
        "print (wine.isnull().sum()) #shows how many null values are in each section\n",
        "\n"
      ],
      "metadata": {
        "id": "A6efE0cVJ121",
        "colab": {
          "base_uri": "https://localhost:8080/"
        },
        "outputId": "eefd0922-41a3-4bed-bad7-d963b5a54c8e"
      },
      "execution_count": null,
      "outputs": [
        {
          "output_type": "stream",
          "name": "stdout",
          "text": [
            "  fixed acidity,volatile acidity,citric acid,residual sugar,chlorides,free sulfur dioxide,total sulfur dioxide,density,pH,sulphates,alcohol,quality\n",
            "0   7.4,0.7,0,1.9,0.076,11,34,0.9978,3.51,0.56,9.4,5                                                                                               \n",
            "1   7.8,0.88,0,2.6,0.098,25,67,0.9968,3.2,0.68,9.8,5                                                                                               \n",
            "2  7.8,0.76,0.04,2.3,0.092,15,54,0.997,3.26,0.65,...                                                                                               \n",
            "3  11.2,0.28,0.56,1.9,0.075,17,60,0.998,3.16,0.58...                                                                                               \n",
            "4   7.4,0.7,0,1.9,0.076,11,34,0.9978,3.51,0.56,9.4,5                                                                                               \n",
            " \n",
            "<class 'pandas.core.frame.DataFrame'>\n",
            "RangeIndex: 1599 entries, 0 to 1598\n",
            "Data columns (total 1 columns):\n",
            " #   Column                                                                                                                                             Non-Null Count  Dtype \n",
            "---  ------                                                                                                                                             --------------  ----- \n",
            " 0   fixed acidity,volatile acidity,citric acid,residual sugar,chlorides,free sulfur dioxide,total sulfur dioxide,density,pH,sulphates,alcohol,quality  1599 non-null   object\n",
            "dtypes: object(1)\n",
            "memory usage: 12.6+ KB\n",
            "None\n",
            " \n",
            "fixed acidity,volatile acidity,citric acid,residual sugar,chlorides,free sulfur dioxide,total sulfur dioxide,density,pH,sulphates,alcohol,quality    0\n",
            "dtype: int64\n"
          ]
        }
      ]
    },
    {
      "cell_type": "code",
      "source": [
        "\n",
        "#Importing required packages.\n",
        "\n",
        "import pandas as pd\n",
        "import seaborn as sns #lines 2 and 3 are for graphing\n",
        "import matplotlib.pyplot as plt\n",
        "from sklearn.ensemble import RandomForestClassifier\n",
        "from sklearn.svm import SVC\n",
        "from sklearn import svm\n",
        "from sklearn.neural_network import MLPClassifier \n",
        "\n",
        "#from sklearn.linear_model import SGDClassifier\n",
        "from sklearn.metrics import confusion_matrix, classification_report\n",
        "from sklearn.preprocessing import StandardScaler, LabelEncoder\n",
        "from sklearn.model_selection import train_test_split\n",
        "from sklearn.model_selection import train_test_split\n",
        "%matplotlib inline\n",
        "\n",
        "#Loading dataset\n",
        "wine = pd.read_csv('/content/winequality-red.csv') #if i write sep=\";\" here after ....csv', the program doesn't work for some reason\n",
        "\n",
        "#Preprocessing data:\n",
        "\n",
        "bins = (2, 6.5, 8) # in wine.head part, you can see many different values in the quality column (ex: 5,6,7). now we are seperating that into just 2 bins of quality: good and bad. if 2<x<6.5= bad, 6.5<x<8 = good\n",
        "group_names = ['bad', 'good']\n",
        "wine['quality']= pd.cut(wine['quality'], bins= bins, labels = group_names)\n",
        "wine['quality'].unique()\n",
        "\n",
        "label_quality= LabelEncoder() #this replaces categorical value with a numeric value between 0 and the number of classes minus 1. here, as the number of classes is 2 (good and bad), the label encoder changes the values into 0 or 1 (2-1=1).\n",
        "\n",
        "wine['quality']= label_quality.fit_transform(wine['quality']) \n",
        "\n",
        "wine.head() #now we can see that in quality column, theres only 0 and 1 value. 0 =bad, 1 = good.\n",
        "\n",
        "wine['quality'].value_counts() #shows how many wines are good (1) and bad(0)\n",
        "\n",
        "sns.countplot(wine['quality']) #graphical representation of good and bad quality wine\n",
        "\n",
        "#Now seperate the dataset as response variable and feature variable:\n",
        "#this is to seperate the features we need to predict the quality of the wine adn the quality itself. so on the basis on other features of the wine- ex: acidity, suger, we are coding to predict the quality of the wine\n",
        "\n",
        "X= wine.drop('quality', axis=1) #x = all features - quality\n",
        "y= wine['quality'] #y = quality only\n",
        "\n",
        "# Train and Test splitting of data:\n",
        "\n",
        "X_train, X_test, y_train, y_test = train_test_split (X,y, test_size= 0.2, random_state =42) #test size = 0.2 means 20% default size would be 0.25. random state is not too imp, its just a random number.\n",
        "\n",
        "#Applying Standard Scaling to get optimized result:\n",
        "\n",
        "sc= StandardScaler() # total sulfur dioxide column has very large values ex: 34, 54, 102 while the chloride column has values like 0.076 so they have very little impact compared to sulfur values. so we need to standardize all values to level the playing field.\n",
        "X_train = sc.fit_transform(X_train)\n",
        "X_test = sc.transform (X_test)\n",
        "\n",
        "X_train[:10] #now we can see that our values are much more uniform.\n",
        "\n",
        "#3 MOST COMMONLY USED CLASSIFIERS- RFC, SVM, NERUAL NETWORK- WE WILL EXPLORE:\n",
        "\n",
        "#Random Forest Classifier: (best used for medium sized dataset)\n",
        "\n",
        "rfc= RandomForestClassifier (n_estimators=200) #200 = number of trees in the forest aka number of models in here. usually start with a higher number, then lower it to see if it keeps the same value. smaller the number, better the fit.\n",
        "rfc.fit(X_train, y_train) #fitting our training data into it\n",
        "pred_rfc=rfc.predict(X_test) #predicting\n",
        "\n",
        "#Let's see how well our model performed\n",
        " \n",
        "print (classification_report(y_test,pred_rfc)) #report shows how good are our actual values against our predicted values.\n",
        "\n",
        "print (confusion_matrix(y_test, pred_rfc)) #shows that we had 264 correct and 9 wrong for bad wine and alot of mislables for good wine. shows that we are good are predicting bad wine but not so good at predicting the good wine.\n",
        "\n",
        "print ('----------------------------------------------------------------')\n",
        "\n",
        "#SVM CLASSIFIER: (works better on smaller numbers)\n",
        "clf=svm.SVC()\n",
        "clf.fit(X_train, y_train)\n",
        "pred_clf= clf.predict (X_test)\n",
        "\n",
        "print (classification_report(y_test,pred_clf))\n",
        "print (confusion_matrix(y_test, pred_clf))\n",
        "\n",
        "#we can see precision of rfc is better than svm. \n",
        "\n",
        "print ('----------------------------------------------------------------')\n",
        "\n",
        "#NEURAL NETWORKS: (can work with large amounts of data, good with image processing)\n",
        "\n",
        "mlpc= MLPClassifier(hidden_layer_sizes=(11,11,11), max_iter=500) # 3 layers of 11 size each. default iteration= 200. 500 iteration means that it is goinf through the data 500 times to program those diff layers and carefully adjust them.\n",
        "mlpc.fit(X_train, y_train)\n",
        "pred_mlpc=mlpc.predict(X_test)\n",
        "\n",
        "print (classification_report(y_test,pred_mlpc))\n",
        "print (confusion_matrix(y_test, pred_mlpc))\n",
        "\n",
        "#didn't do as good with labeling the bad wines.\n",
        "\n",
        "print ('----------------------------------------------------------------')\n",
        "\n",
        "from sklearn.metrics import accuracy_score\n",
        "cm= accuracy_score(y_test, pred_rfc)\n",
        "print (cm)\n",
        "\n",
        "print ('----------------------------------------------------------------')\n",
        "\n",
        "#testing if a new wine is of good or bad quality:\n",
        "\n",
        "Xnew= [[7.3,0.58,0.00,2.0,0.065,15.0,21.0,0.9946,3.36,0.47,10.0]]\n",
        "Xnew= sc.transform(Xnew)\n",
        "ynew= rfc.predict(Xnew) #asking to predict the quality\n",
        "ynew\n",
        "\n",
        "#output shows-- array[0] which tells us that the wine is bad.\n",
        "\n"
      ],
      "metadata": {
        "colab": {
          "base_uri": "https://localhost:8080/",
          "height": 1000
        },
        "id": "LhB4uq31Sffj",
        "outputId": "006d9c04-5c3b-4e3d-c294-5341c187af54"
      },
      "execution_count": null,
      "outputs": [
        {
          "output_type": "stream",
          "name": "stderr",
          "text": [
            "/usr/local/lib/python3.7/dist-packages/seaborn/_decorators.py:43: FutureWarning: Pass the following variable as a keyword arg: x. From version 0.12, the only valid positional argument will be `data`, and passing other arguments without an explicit keyword will result in an error or misinterpretation.\n",
            "  FutureWarning\n"
          ]
        },
        {
          "output_type": "stream",
          "name": "stdout",
          "text": [
            "              precision    recall  f1-score   support\n",
            "\n",
            "           0       0.92      0.96      0.94       273\n",
            "           1       0.67      0.51      0.58        47\n",
            "\n",
            "    accuracy                           0.89       320\n",
            "   macro avg       0.79      0.73      0.76       320\n",
            "weighted avg       0.88      0.89      0.88       320\n",
            "\n",
            "[[261  12]\n",
            " [ 23  24]]\n",
            "----------------------------------------------------------------\n",
            "              precision    recall  f1-score   support\n",
            "\n",
            "           0       0.88      0.98      0.93       273\n",
            "           1       0.71      0.26      0.37        47\n",
            "\n",
            "    accuracy                           0.88       320\n",
            "   macro avg       0.80      0.62      0.65       320\n",
            "weighted avg       0.86      0.88      0.85       320\n",
            "\n",
            "[[268   5]\n",
            " [ 35  12]]\n",
            "----------------------------------------------------------------\n",
            "              precision    recall  f1-score   support\n",
            "\n",
            "           0       0.92      0.96      0.94       273\n",
            "           1       0.69      0.51      0.59        47\n",
            "\n",
            "    accuracy                           0.89       320\n",
            "   macro avg       0.80      0.74      0.76       320\n",
            "weighted avg       0.88      0.89      0.89       320\n",
            "\n",
            "[[262  11]\n",
            " [ 23  24]]\n",
            "----------------------------------------------------------------\n",
            "0.890625\n",
            "----------------------------------------------------------------\n"
          ]
        },
        {
          "output_type": "stream",
          "name": "stderr",
          "text": [
            "/usr/local/lib/python3.7/dist-packages/sklearn/neural_network/_multilayer_perceptron.py:696: ConvergenceWarning: Stochastic Optimizer: Maximum iterations (500) reached and the optimization hasn't converged yet.\n",
            "  ConvergenceWarning,\n",
            "/usr/local/lib/python3.7/dist-packages/sklearn/base.py:451: UserWarning: X does not have valid feature names, but StandardScaler was fitted with feature names\n",
            "  \"X does not have valid feature names, but\"\n"
          ]
        },
        {
          "output_type": "execute_result",
          "data": {
            "text/plain": [
              "array([0])"
            ]
          },
          "metadata": {},
          "execution_count": 62
        },
        {
          "output_type": "display_data",
          "data": {
            "text/plain": [
              "<Figure size 432x288 with 1 Axes>"
            ],
            "image/png": "[encoded data removed]"
          },
          "metadata": {
            "needs_background": "light"
          }
        }
      ]
    },
    {
      "cell_type": "code",
      "source": [],
      "metadata": {
        "id": "VikrYsyiyFMo"
      },
      "execution_count": null,
      "outputs": []
    }
  ]
}
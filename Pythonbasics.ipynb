{
  "nbformat": 4,
  "nbformat_minor": 0,
  "metadata": {
    "colab": {
      "provenance": [],
      "collapsed_sections": []
    },
    "kernelspec": {
      "name": "python3",
      "display_name": "Python 3"
    },
    "language_info": {
      "name": "python"
    }
  },
  "cells": [
    {
      "cell_type": "code",
      "execution_count": null,
      "metadata": {
        "colab": {
          "base_uri": "https://localhost:8080/"
        },
        "id": "1kzdv6Iu94mA",
        "outputId": "aa1ebdbc-75e5-43fb-9bf5-326d78d76013"
      },
      "outputs": [
        {
          "output_type": "stream",
          "name": "stdout",
          "text": [
            "Pratistha Chand\n",
            "18\n"
          ]
        }
      ],
      "source": [
        "#Printing my name and age:\n",
        "name= \"Pratistha Chand\"\n",
        "age=\"18\"\n",
        "print(name)\n",
        "print (age)\n",
        "\n"
      ]
    },
    {
      "cell_type": "code",
      "source": [
        "first_name= \"Pratistha\"\n",
        "last_name= \"Chand\"\n",
        "age=18\n",
        "is_adult= True\n",
        "\n",
        "print (first_name +\" \"+ last_name)  #\" \" is for space between words\n",
        "print(age)\n",
        "print(is_adult)"
      ],
      "metadata": {
        "colab": {
          "base_uri": "https://localhost:8080/"
        },
        "id": "H46hzwtX-Zgs",
        "outputId": "5f361b8e-4250-4edb-ca4b-8b0f9e7b3484"
      },
      "execution_count": null,
      "outputs": [
        {
          "output_type": "stream",
          "name": "stdout",
          "text": [
            "Pratistha Chand\n",
            "18\n",
            "True\n"
          ]
        }
      ]
    },
    {
      "cell_type": "code",
      "source": [
        "#Taking input:\n",
        "\n",
        "name= input(\"What is your name?\")\n",
        "print(\"Hello\"+ \" \"+ name + \"!\")\n",
        " "
      ],
      "metadata": {
        "colab": {
          "base_uri": "https://localhost:8080/"
        },
        "id": "MFNEPQsV_gOF",
        "outputId": "45eb88a1-6c42-4d2b-c597-cee79f86f06a"
      },
      "execution_count": null,
      "outputs": [
        {
          "output_type": "stream",
          "name": "stdout",
          "text": [
            "What is your name?Pratistha\n",
            "Hello Pratistha!\n"
          ]
        }
      ]
    },
    {
      "cell_type": "code",
      "source": [
        "#Type conversion:\n",
        "\n",
        "old_age= input(\"What is your age? \")\n",
        "new_age= int(old_age) + 8\n",
        "print (\"You will be \" + str(new_age)+\" years old when it's 2030.\")\n",
        "\n",
        "\n"
      ],
      "metadata": {
        "colab": {
          "base_uri": "https://localhost:8080/"
        },
        "id": "eo1lZnrQ_4pO",
        "outputId": "9371cd42-1c33-4ece-f140-0ffde6dc19c8"
      },
      "execution_count": null,
      "outputs": [
        {
          "output_type": "stream",
          "name": "stdout",
          "text": [
            "What is your age?10\n",
            "You will be 18 years old when it's 2030.\n"
          ]
        }
      ]
    },
    {
      "cell_type": "code",
      "source": [
        "num=10\n",
        "print (float(num)) #float() puts decimal point to integer"
      ],
      "metadata": {
        "colab": {
          "base_uri": "https://localhost:8080/"
        },
        "id": "DJ73iaroBB3s",
        "outputId": "f2eed559-d182-4499-833c-85f85ed44860"
      },
      "execution_count": null,
      "outputs": [
        {
          "output_type": "stream",
          "name": "stdout",
          "text": [
            "10.0\n"
          ]
        }
      ]
    },
    {
      "cell_type": "code",
      "source": [
        "#Sum of 2 numbers:\n",
        "\n",
        "first_num= input(\"Enter the first number: \")\n",
        "second_num= input(\"Enter the second number: \")\n",
        "sum= float(first_num)+ float(second_num)  #instead of converting str to int, convert str to float. oherwise the program can't sum up decimals. \n",
        "print (\"The sum is \"+ str(sum))"
      ],
      "metadata": {
        "colab": {
          "base_uri": "https://localhost:8080/"
        },
        "id": "c8sOH_X7BVib",
        "outputId": "d2b47e69-b4ce-4743-dee1-110e2e7b7564"
      },
      "execution_count": null,
      "outputs": [
        {
          "output_type": "stream",
          "name": "stdout",
          "text": [
            "Enter the first number: 1.2\n",
            "Enter the second number: 1.5\n",
            "The sum is 2.7\n"
          ]
        }
      ]
    },
    {
      "cell_type": "code",
      "source": [
        "#Strings\n",
        "\n",
        "name= \"Prat Chand\"\n",
        "print (name.upper())\n",
        "print (name.lower())\n",
        "print (name)\n",
        "print (name.replace(\"Prat Chand\", \"Lava Nepal\")) #the above codes don't change the input name\n",
        "print (\"C\" in name) #checks whether the character/string is in the main string\n",
        "print (\"z\" in name)"
      ],
      "metadata": {
        "colab": {
          "base_uri": "https://localhost:8080/"
        },
        "id": "4x_aCWPBB4fj",
        "outputId": "762c1b51-a6fb-4d70-9fab-071f5cb98d79"
      },
      "execution_count": null,
      "outputs": [
        {
          "output_type": "stream",
          "name": "stdout",
          "text": [
            "PRAT CHAND\n",
            "prat chand\n",
            "Prat Chand\n",
            "Lava Nepal\n",
            "True\n",
            "False\n"
          ]
        }
      ]
    },
    {
      "cell_type": "code",
      "source": [
        "#Arithmetic Operators\n",
        "\n",
        "print(5//2) #removes decimals present. aka rounds down.\n",
        "print (5**2) #aka 5^2\n",
        "print (5%2) #gives remainder "
      ],
      "metadata": {
        "colab": {
          "base_uri": "https://localhost:8080/"
        },
        "id": "bXRJ95aBDXwQ",
        "outputId": "95312394-89c5-4f24-b2e7-b602a21407cc"
      },
      "execution_count": null,
      "outputs": [
        {
          "output_type": "stream",
          "name": "stdout",
          "text": [
            "2\n",
            "25\n",
            "1\n"
          ]
        }
      ]
    },
    {
      "cell_type": "code",
      "source": [
        "i=2\n",
        "i=i+2\n",
        "print (i)\n",
        "i+=2  #same as i=i+2\n",
        "print (i)\n",
        "i-=4\n",
        "print (i)"
      ],
      "metadata": {
        "colab": {
          "base_uri": "https://localhost:8080/"
        },
        "id": "6Y6REJriD8YK",
        "outputId": "5ac4fc7d-b975-46ae-f968-817fe4369e96"
      },
      "execution_count": null,
      "outputs": [
        {
          "output_type": "stream",
          "name": "stdout",
          "text": [
            "4\n",
            "6\n",
            "2\n"
          ]
        }
      ]
    },
    {
      "cell_type": "code",
      "source": [
        "#IF statements\n",
        "\n",
        "age= input(\"What's your age?\")\n",
        "age=int(age)\n",
        "if age>=21:\n",
        "  print (\"You can drink!Woo!\")\n",
        "elif age>=18:\n",
        "  print (\"You can vote!\")\n",
        "elif age<18:\n",
        "  print (\"You're still a kid :(\")\n"
      ],
      "metadata": {
        "colab": {
          "base_uri": "https://localhost:8080/"
        },
        "id": "PScBI8GXEUN3",
        "outputId": "05e37094-5da4-42ae-adf8-1516f927467b"
      },
      "execution_count": null,
      "outputs": [
        {
          "output_type": "stream",
          "name": "stdout",
          "text": [
            "What's your age?18\n",
            "You can vote!\n"
          ]
        }
      ]
    },
    {
      "cell_type": "code",
      "source": [
        "#Calculator:\n",
        "\n",
        "a= input(\"Enter the first number: \")\n",
        "b= input(\"Enter the second number: \")\n",
        "a= int(a)\n",
        "b= int(b)\n",
        "operator= input(\"Enter operator(+,-,*,/): \")\n",
        "\n",
        "\n",
        "if operator == \"+\":\n",
        "  sum= a+b\n",
        "  print (str(sum))\n",
        "elif operator == \"-\":\n",
        "  diff= a-b\n",
        "  print (str(diff))\n",
        "elif operator == \"*\":\n",
        "  multiply= a*b\n",
        "  print (str(multiply))  \n",
        "elif operator == \"/\":\n",
        "  divide= a/b\n",
        "  print (str(divide))  \n",
        "else:\n",
        "  print (\"Invalid Operation\")"
      ],
      "metadata": {
        "colab": {
          "base_uri": "https://localhost:8080/"
        },
        "id": "AaDlBikTFP3y",
        "outputId": "54af9d4d-4b51-4ac2-e377-5ed2ce567a73"
      },
      "execution_count": null,
      "outputs": [
        {
          "output_type": "stream",
          "name": "stdout",
          "text": [
            "Enter the first number: 4\n",
            "Enter the second number: 3\n",
            "Enter operator(+,-,*,/): 0\n",
            "Invalid Operation\n"
          ]
        }
      ]
    },
    {
      "cell_type": "code",
      "source": [
        " numbers= range (10)\n",
        " print (numbers)"
      ],
      "metadata": {
        "colab": {
          "base_uri": "https://localhost:8080/"
        },
        "id": "yYzRTwPbHiRi",
        "outputId": "78f36b7e-ae82-48f9-9fcb-78e5bfdf1f5a"
      },
      "execution_count": null,
      "outputs": [
        {
          "output_type": "stream",
          "name": "stdout",
          "text": [
            "range(0, 10)\n"
          ]
        }
      ]
    },
    {
      "cell_type": "code",
      "source": [
        "#Loop\n",
        "\n",
        "i= 1\n",
        "while i<= 10:\n",
        "  print (i)\n",
        "  i=i+2\n",
        "\n",
        "j=10\n",
        "while j>=0:\n",
        "  print (j * \"*\")  #can repeat a string by multiply string with number\n",
        "  j=j-1\n"
      ],
      "metadata": {
        "colab": {
          "base_uri": "https://localhost:8080/"
        },
        "id": "HYHmxmhoL41U",
        "outputId": "39d5c8fe-5c57-4f58-bbdb-1881d7bde2d0"
      },
      "execution_count": null,
      "outputs": [
        {
          "output_type": "stream",
          "name": "stdout",
          "text": [
            "1\n",
            "3\n",
            "5\n",
            "7\n",
            "9\n",
            "**********\n",
            "*********\n",
            "********\n",
            "*******\n",
            "******\n",
            "*****\n",
            "****\n",
            "***\n",
            "**\n",
            "*\n",
            "\n"
          ]
        }
      ]
    },
    {
      "cell_type": "code",
      "source": [
        "#For Loop\n",
        "\n",
        "for item in range(5):\n",
        "  print (item +1)\n",
        "  "
      ],
      "metadata": {
        "colab": {
          "base_uri": "https://localhost:8080/"
        },
        "id": "AI3nF1c-Mmdo",
        "outputId": "9efc301b-33a7-426d-e2e4-de619a5f9b30"
      },
      "execution_count": null,
      "outputs": [
        {
          "output_type": "stream",
          "name": "stdout",
          "text": [
            "1\n",
            "2\n",
            "3\n",
            "4\n",
            "5\n"
          ]
        }
      ]
    },
    {
      "cell_type": "code",
      "source": [
        "#Lists:\n",
        "\n",
        "languages= [\"Nepali\",\"English\",\"Hindi\"]\n",
        "print (languages [1])  # 0,1,2= index = positions of words in the string\n",
        "print (languages [-1]) # -1 = hindi (tells us to start counting from back)\n",
        "\n",
        "languages[0]= \"Chinese\" # chinese replaced nepali\n",
        "print (languages)\n",
        "\n",
        "print (languages[0:2]) #prints 0,1 index. 2 is excluded\n",
        "\n",
        "languages.append(\"Spanish\") #added to list\n",
        "print (languages)\n",
        "\n",
        "print (len(languages)) #gives length\n",
        "languages.clear() #deletes list\n",
        "print (languages)"
      ],
      "metadata": {
        "colab": {
          "base_uri": "https://localhost:8080/"
        },
        "id": "zkduHes5NZ0d",
        "outputId": "9abc631f-e80a-4dec-8907-6e4b039008a6"
      },
      "execution_count": null,
      "outputs": [
        {
          "output_type": "stream",
          "name": "stdout",
          "text": [
            "English\n",
            "Hindi\n",
            "['Chinese', 'English', 'Hindi']\n",
            "['Chinese', 'English']\n",
            "['Chinese', 'English', 'Hindi', 'Spanish']\n",
            "4\n",
            "[]\n"
          ]
        }
      ]
    },
    {
      "cell_type": "code",
      "source": [
        "#Break and continue:\n",
        "\n",
        "names= [\"Ram\", \"Shyam\",\" Hari\", \"Lakhan\"]\n",
        "for name in names:\n",
        "  if (name == \"Shyam\") :\n",
        "    break               #breaks the loop if shyam's name comes up\n",
        "  print (name)  \n",
        "\n"
      ],
      "metadata": {
        "colab": {
          "base_uri": "https://localhost:8080/"
        },
        "id": "yQh9wmynQkqs",
        "outputId": "b1547ec6-e033-4179-c7de-7c1fb450eb30"
      },
      "execution_count": null,
      "outputs": [
        {
          "output_type": "stream",
          "name": "stdout",
          "text": [
            "Ram\n"
          ]
        }
      ]
    },
    {
      "cell_type": "code",
      "source": [
        "names= [\"Ram\", \"Shyam\", \"Hari\", \"Lakhan\"]\n",
        "\n",
        "for name in names:\n",
        "  if (name == \"Hari\") :\n",
        "    continue           #indentation is important here. continue = excluded hari's name\n",
        "  print (name)    "
      ],
      "metadata": {
        "colab": {
          "base_uri": "https://localhost:8080/"
        },
        "id": "eiMe-sA9Ry5V",
        "outputId": "649d885f-5a28-4290-9e09-60098f30d964"
      },
      "execution_count": null,
      "outputs": [
        {
          "output_type": "stream",
          "name": "stdout",
          "text": [
            "Ram\n",
            "Shyam\n",
            "Lakhan\n"
          ]
        }
      ]
    },
    {
      "cell_type": "code",
      "source": [
        "# ()= tuple-list where once they have been defined we cannot change them. []= list. {}=set -stores unique values, has no index so its unordered.\n",
        "\n"
      ],
      "metadata": {
        "id": "HehjIMgkTZwE"
      },
      "execution_count": null,
      "outputs": []
    },
    {
      "cell_type": "code",
      "source": [],
      "metadata": {
        "id": "uNJj_Z8JQva9"
      },
      "execution_count": null,
      "outputs": []
    },
    {
      "cell_type": "code",
      "source": [
        "first_name= \"Pratistha\"\n",
        "last_name= \"Chand\"\n",
        "age=18\n",
        "is_adult= True\n",
        "\n",
        "for i in range (0, 5):\n",
        "  print (first_name +\" \"+ last_name)\n",
        "\n",
        "for i in range(0, 3):\n",
        "  print('I am 18 years old')\n",
        "\n",
        "for i in range (0, 5):\n",
        "  print (first_name +\" \"+ last_name)"
      ],
      "metadata": {
        "colab": {
          "base_uri": "https://localhost:8080/"
        },
        "id": "nJV5y-j0QvSG",
        "outputId": "6951b774-6a00-460d-a836-1da33b39ec4c"
      },
      "execution_count": null,
      "outputs": [
        {
          "output_type": "stream",
          "name": "stdout",
          "text": [
            "Pratistha Chand\n",
            "Pratistha Chand\n",
            "Pratistha Chand\n",
            "Pratistha Chand\n",
            "Pratistha Chand\n",
            "I am 18 years old\n",
            "I am 18 years old\n",
            "I am 18 years old\n",
            "Pratistha Chand\n",
            "Pratistha Chand\n",
            "Pratistha Chand\n",
            "Pratistha Chand\n",
            "Pratistha Chand\n"
          ]
        }
      ]
    },
    {
      "cell_type": "code",
      "source": [
        "#functions \n",
        "\n",
        "def pratistha(age):\n",
        "  print('I am '+ str(age))\n",
        "\n",
        "\n",
        "pratistha(23)\n"
      ],
      "metadata": {
        "colab": {
          "base_uri": "https://localhost:8080/"
        },
        "id": "CS01dpT9RJmq",
        "outputId": "c3803ccb-b358-4ceb-8953-fa25f0c2237a"
      },
      "execution_count": null,
      "outputs": [
        {
          "output_type": "stream",
          "name": "stdout",
          "text": [
            "I am 23\n"
          ]
        }
      ]
    }
  ]
}